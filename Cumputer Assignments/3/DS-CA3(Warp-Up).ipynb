{
 "cells": [
  {
   "attachments": {},
   "cell_type": "markdown",
   "id": "eae0dcb3",
   "metadata": {},
   "source": [
    "## Introduction to Data Science Assignment 3\n",
    "__Parham Javan 810800008<br>__\n",
    "__Yaser Azad 810800003__\n"
   ]
  },
  {
   "attachments": {},
   "cell_type": "markdown",
   "id": "4732f9ba",
   "metadata": {},
   "source": [
    "## Install neccessary libraries"
   ]
  },
  {
   "cell_type": "code",
   "execution_count": 2,
   "id": "f027d544812c325c",
   "metadata": {
    "ExecuteTime": {
     "end_time": "2024-04-17T19:00:44.261800200Z",
     "start_time": "2024-04-17T19:00:44.248515500Z"
    },
    "collapsed": false
   },
   "outputs": [],
   "source": [
    "import importlib.util\n",
    "\n",
    "# Check if PySpark is installed\n",
    "if importlib.util.find_spec(\"pyspark\") is None:\n",
    "    # Install PySpark\n",
    "    !pip install pyspark\n",
    "\n",
    "from pyspark.sql import SparkSession\n",
    "from pyspark.sql.functions import year, month\n",
    "from pyspark.sql.functions import mean, stddev\n",
    "from pyspark.sql.functions import to_date\n",
    "from pyspark.sql.functions import min, max, median, avg, format_number\n",
    "from pyspark.sql.functions import col, when\n",
    "from pyspark.sql.functions import split, explode\n"
   ]
  },
  {
   "cell_type": "markdown",
   "id": "5de21c3f07dc6f2c",
   "metadata": {
    "collapsed": false
   },
   "source": [
    "For better visualization of dataframes in jupyter notebooks, since they are rendered to html"
   ]
  },
  {
   "cell_type": "code",
   "execution_count": 3,
   "id": "initial_id",
   "metadata": {
    "ExecuteTime": {
     "end_time": "2024-04-17T19:00:44.285311600Z",
     "start_time": "2024-04-17T19:00:44.259166300Z"
    },
    "collapsed": true
   },
   "outputs": [
    {
     "data": {
      "text/html": [
       "<style>pre { white-space: pre !important; }</style>"
      ],
      "text/plain": [
       "<IPython.core.display.HTML object>"
      ]
     },
     "metadata": {},
     "output_type": "display_data"
    }
   ],
   "source": [
    "from IPython.display import display, HTML\n",
    "display(HTML('<style>pre { white-space: pre !important; }</style>'))\n"
   ]
  },
  {
   "cell_type": "markdown",
   "id": "6ac262eea8ac8e23",
   "metadata": {
    "collapsed": false
   },
   "source": [
    "## Warm-Up"
   ]
  },
  {
   "attachments": {},
   "cell_type": "markdown",
   "id": "52e47424",
   "metadata": {},
   "source": [
    "Step 1: Read the CSV file\n"
   ]
  },
  {
   "cell_type": "code",
   "execution_count": 4,
   "id": "b1411696",
   "metadata": {},
   "outputs": [
    {
     "name": "stdout",
     "output_type": "stream",
     "text": [
      "CSV file reading done!\n"
     ]
    }
   ],
   "source": [
    "\n",
    "# Create a SparkSession\n",
    "spark = SparkSession.builder \\\n",
    "    .appName(\"Stocks Analysis\") \\\n",
    "    .getOrCreate()\n",
    "\n",
    "# Read the CSV file into a DataFrame\n",
    "df = spark.read.csv(\"stocks.csv\", header=True, inferSchema=True)\n",
    "\n",
    "print(\"CSV file reading done!\")"
   ]
  },
  {
   "attachments": {},
   "cell_type": "markdown",
   "id": "6a1fb087",
   "metadata": {},
   "source": [
    "---\n",
    "<br>\n",
    "Step 2: Find out about the schema of data"
   ]
  },
  {
   "cell_type": "code",
   "execution_count": 5,
   "id": "d8cb84a2",
   "metadata": {},
   "outputs": [
    {
     "name": "stdout",
     "output_type": "stream",
     "text": [
      "The schema of data:\n",
      "\n",
      "root\n",
      " |-- Date: date (nullable = true)\n",
      " |-- Open: double (nullable = true)\n",
      " |-- High: double (nullable = true)\n",
      " |-- Low: double (nullable = true)\n",
      " |-- Close: double (nullable = true)\n",
      " |-- Volume: integer (nullable = true)\n",
      " |-- Adj Close: double (nullable = true)\n",
      "\n",
      "number of dataframe rows: 1762\n"
     ]
    }
   ],
   "source": [
    "print(\"The schema of data:\\n\")\n",
    "df.printSchema()\n",
    "print(\"number of dataframe rows:\", df.count())\n"
   ]
  },
  {
   "attachments": {},
   "cell_type": "markdown",
   "id": "1a2a507d",
   "metadata": {},
   "source": [
    "---\n",
    "<br>\n",
    "Step 3: Select records with closing price less than 500"
   ]
  },
  {
   "cell_type": "code",
   "execution_count": 6,
   "id": "8b78bb8b",
   "metadata": {},
   "outputs": [
    {
     "name": "stdout",
     "output_type": "stream",
     "text": [
      "Records with closing price less than 500:\n",
      "\n",
      "+------------------+------------------+---------+\n",
      "|              Open|             Close|   Volume|\n",
      "+------------------+------------------+---------+\n",
      "|        213.429998|        214.009998|123432400|\n",
      "|        214.599998|        214.379993|150476200|\n",
      "|        214.379993|        210.969995|138040000|\n",
      "|            211.75|            210.58|119282800|\n",
      "|        210.299994|211.98000499999998|111902700|\n",
      "|212.79999700000002|210.11000299999998|115557400|\n",
      "|209.18999499999998|        207.720001|148614900|\n",
      "|        207.870005|        210.650002|151473000|\n",
      "|210.11000299999998|            209.43|108223500|\n",
      "|210.92999500000002|            205.93|148516900|\n",
      "|        208.330002|        215.039995|182501900|\n",
      "|        214.910006|            211.73|153038200|\n",
      "|        212.079994|        208.069996|152038600|\n",
      "|206.78000600000001|            197.75|220441900|\n",
      "|202.51000200000001|        203.070002|266424900|\n",
      "|205.95000100000001|        205.940001|466777500|\n",
      "|        206.849995|        207.880005|430642100|\n",
      "|        204.930004|        199.289995|293375600|\n",
      "|        201.079996|        192.060003|311488100|\n",
      "|192.36999699999998|        194.729998|187469100|\n",
      "+------------------+------------------+---------+\n",
      "only showing top 20 rows\n",
      "\n",
      "number of records: 1359\n"
     ]
    }
   ],
   "source": [
    "less_than_500_df = df.filter(df['Close'] < 500).select('Open', 'Close', 'Volume') #filter based on gien condition\n",
    "print(\"Records with closing price less than 500:\\n\")\n",
    "less_than_500_df.show()\n",
    "print(\"number of records:\", less_than_500_df.count())"
   ]
  },
  {
   "attachments": {},
   "cell_type": "markdown",
   "id": "50556235",
   "metadata": {},
   "source": [
    "---\n",
    "<br>\n",
    "Step 4: Find out records with opening price more than 200 and closing price less than 200\n"
   ]
  },
  {
   "cell_type": "code",
   "execution_count": 7,
   "id": "e493f2d7",
   "metadata": {},
   "outputs": [
    {
     "name": "stdout",
     "output_type": "stream",
     "text": [
      "Records with opening price more than 200 and closing price less than 200:\n",
      "\n",
      "+----------+------------------+----------+----------+----------+---------+------------------+\n",
      "|      Date|              Open|      High|       Low|     Close|   Volume|         Adj Close|\n",
      "+----------+------------------+----------+----------+----------+---------+------------------+\n",
      "|2010-01-22|206.78000600000001|207.499996|    197.16|    197.75|220441900|         25.620401|\n",
      "|2010-01-28|        204.930004|205.500004|198.699995|199.289995|293375600|25.819922000000002|\n",
      "|2010-01-29|        201.079996|202.199995|190.250002|192.060003|311488100|         24.883208|\n",
      "+----------+------------------+----------+----------+----------+---------+------------------+\n",
      "\n",
      "number of records: 3\n"
     ]
    }
   ],
   "source": [
    "open_more_than_200_close_less_than_200_df = df.filter((df['Open'] > 200) & (df['Close'] < 200))\n",
    "print(\"Records with opening price more than 200 and closing price less than 200:\\n\")\n",
    "open_more_than_200_close_less_than_200_df.show()\n",
    "print(\"number of records:\", open_more_than_200_close_less_than_200_df.count())"
   ]
  },
  {
   "attachments": {},
   "cell_type": "markdown",
   "id": "951915e0",
   "metadata": {},
   "source": [
    "---\n",
    "<br>\n",
    "Step 5: Extract the year from the date and save it in a new column"
   ]
  },
  {
   "cell_type": "code",
   "execution_count": 8,
   "id": "acf5bdf8",
   "metadata": {},
   "outputs": [
    {
     "name": "stdout",
     "output_type": "stream",
     "text": [
      "The dataframe with the new row \"Year\":\n",
      "\n",
      "+----------+------------------+------------------+------------------+------------------+---------+------------------+----+\n",
      "|      Date|              Open|              High|               Low|             Close|   Volume|         Adj Close|Year|\n",
      "+----------+------------------+------------------+------------------+------------------+---------+------------------+----+\n",
      "|2010-01-04|        213.429998|        214.499996|212.38000099999996|        214.009998|123432400|         27.727039|2010|\n",
      "|2010-01-05|        214.599998|        215.589994|        213.249994|        214.379993|150476200|27.774976000000002|2010|\n",
      "|2010-01-06|        214.379993|            215.23|        210.750004|        210.969995|138040000|27.333178000000004|2010|\n",
      "|2010-01-07|            211.75|        212.000006|        209.050005|            210.58|119282800|          27.28265|2010|\n",
      "|2010-01-08|        210.299994|        212.000006|209.06000500000002|211.98000499999998|111902700|         27.464034|2010|\n",
      "|2010-01-11|212.79999700000002|        213.000002|        208.450005|210.11000299999998|115557400|         27.221758|2010|\n",
      "|2010-01-12|209.18999499999998|209.76999500000002|        206.419998|        207.720001|148614900|          26.91211|2010|\n",
      "|2010-01-13|        207.870005|210.92999500000002|        204.099998|        210.650002|151473000|          27.29172|2010|\n",
      "|2010-01-14|210.11000299999998|210.45999700000002|        209.020004|            209.43|108223500|         27.133657|2010|\n",
      "|2010-01-15|210.92999500000002|211.59999700000003|        205.869999|            205.93|148516900|26.680197999999997|2010|\n",
      "|2010-01-19|        208.330002|215.18999900000003|        207.240004|        215.039995|182501900|27.860484999999997|2010|\n",
      "|2010-01-20|        214.910006|        215.549994|        209.500002|            211.73|153038200|         27.431644|2010|\n",
      "|2010-01-21|        212.079994|213.30999599999998|        207.210003|        208.069996|152038600|         26.957455|2010|\n",
      "|2010-01-22|206.78000600000001|        207.499996|            197.16|            197.75|220441900|         25.620401|2010|\n",
      "|2010-01-25|202.51000200000001|        204.699999|        200.190002|        203.070002|266424900|26.309658000000002|2010|\n",
      "|2010-01-26|205.95000100000001|        213.710005|        202.580004|        205.940001|466777500|         26.681494|2010|\n",
      "|2010-01-27|        206.849995|            210.58|        199.530001|        207.880005|430642100|26.932840000000002|2010|\n",
      "|2010-01-28|        204.930004|        205.500004|        198.699995|        199.289995|293375600|25.819922000000002|2010|\n",
      "|2010-01-29|        201.079996|        202.199995|        190.250002|        192.060003|311488100|         24.883208|2010|\n",
      "|2010-02-01|192.36999699999998|             196.0|191.29999899999999|        194.729998|187469100|         25.229131|2010|\n",
      "+----------+------------------+------------------+------------------+------------------+---------+------------------+----+\n",
      "only showing top 20 rows\n",
      "\n"
     ]
    }
   ],
   "source": [
    "df_with_year = df.withColumn('Year', year(df['Date']))\n",
    "print(\"The dataframe with the new row \\\"Year\\\":\\n\")\n",
    "df_with_year.show()"
   ]
  },
  {
   "attachments": {},
   "cell_type": "markdown",
   "id": "2ff792ee",
   "metadata": {},
   "source": [
    "---\n",
    "<br>\n",
    "Step 6: For each year, show the minimum volumes traded"
   ]
  },
  {
   "cell_type": "code",
   "execution_count": 9,
   "id": "dd121957",
   "metadata": {},
   "outputs": [
    {
     "name": "stdout",
     "output_type": "stream",
     "text": [
      "Minimum volumes traded for each year:\n",
      "\n",
      "+----+---------+\n",
      "|Year|minVolume|\n",
      "+----+---------+\n",
      "|2015| 13046400|\n",
      "|2013| 41888700|\n",
      "|2014| 14479600|\n",
      "|2012| 43938300|\n",
      "|2016| 11475900|\n",
      "|2010| 39373600|\n",
      "|2011| 44915500|\n",
      "+----+---------+\n",
      "\n"
     ]
    }
   ],
   "source": [
    "min_volume_by_year = df_with_year.groupBy('Year').min('Volume').withColumnRenamed('min(Volume)', 'minVolume')\n",
    "print(\"Minimum volumes traded for each year:\\n\")\n",
    "min_volume_by_year.show()"
   ]
  },
  {
   "attachments": {},
   "cell_type": "markdown",
   "id": "9c1ef6a0",
   "metadata": {},
   "source": [
    "---\n",
    "<br>\n",
    "Step 7: For each year and month, show the highest low price"
   ]
  },
  {
   "cell_type": "code",
   "execution_count": 10,
   "id": "2aeae76e",
   "metadata": {},
   "outputs": [
    {
     "name": "stdout",
     "output_type": "stream",
     "text": [
      "Highest \"Low Price\" for each year and month:\n",
      "\n",
      "+----+-----+------------------+\n",
      "|Year|Month|            maxLow|\n",
      "+----+-----+------------------+\n",
      "|2012|   10|        665.550026|\n",
      "|2010|    7|        260.300003|\n",
      "|2010|   12|        325.099991|\n",
      "|2015|    2|        131.169998|\n",
      "|2014|    4|        589.799988|\n",
      "|2015|   12|        117.809998|\n",
      "|2016|    7|            103.68|\n",
      "|2016|   11|        111.400002|\n",
      "|2012|    8| 673.5400089999999|\n",
      "|2013|    2|473.24997699999994|\n",
      "|2012|    4| 626.0000150000001|\n",
      "|2012|   12|        585.500023|\n",
      "|2014|   10|        107.209999|\n",
      "|2016|    5|             99.25|\n",
      "|2014|   12|        115.290001|\n",
      "|2013|    9|        503.479988|\n",
      "|2013|   10|        525.110016|\n",
      "|2014|    5|        628.900002|\n",
      "|2016|    2|         96.650002|\n",
      "|2013|   12| 566.4100269999999|\n",
      "+----+-----+------------------+\n",
      "only showing top 20 rows\n",
      "\n",
      "\n",
      "number of rows: 84\n"
     ]
    }
   ],
   "source": [
    "df_with_year_month = df.withColumn('Year', year(df['Date'])).withColumn('Month', month(df['Date']))\n",
    "max_low_price_by_year_month = df_with_year_month.groupBy('Year', 'Month').agg(max('Low').alias('maxLow'))\n",
    "print(\"Highest \\\"Low Price\\\" for each year and month:\\n\")\n",
    "max_low_price_by_year_month.show()\n",
    "print(\"\\nnumber of rows:\", max_low_price_by_year_month.count())"
   ]
  },
  {
   "attachments": {},
   "cell_type": "markdown",
   "id": "42b7f7b0",
   "metadata": {},
   "source": [
    "---\n",
    "<br>\n",
    "Step 8: Calculate mean and standard deviation of high price over the whole data frame\n"
   ]
  },
  {
   "cell_type": "code",
   "execution_count": 11,
   "id": "fc56a8bd",
   "metadata": {},
   "outputs": [
    {
     "name": "stdout",
     "output_type": "stream",
     "text": [
      "Mean High Price: 315.91\n",
      "Standard Deviation of High Price: 186.9\n"
     ]
    }
   ],
   "source": [
    "mean_high_price = df.select(mean('High')).collect()[0][0]\n",
    "stddev_high_price = df.select(stddev('High')).collect()[0][0]\n",
    "print(\"Mean High Price:\", round(mean_high_price, 2))\n",
    "print(\"Standard Deviation of High Price:\", round(stddev_high_price, 2))\n",
    "\n",
    "# Stop the SparkSession\n",
    "spark.stop()"
   ]
  }
 ],
 "metadata": {
  "kernelspec": {
   "display_name": "Python 3",
   "language": "python",
   "name": "python3"
  },
  "language_info": {
   "codemirror_mode": {
    "name": "ipython",
    "version": 3
   },
   "file_extension": ".py",
   "mimetype": "text/x-python",
   "name": "python",
   "nbconvert_exporter": "python",
   "pygments_lexer": "ipython3",
   "version": "3.11.4"
  },
  "vscode": {
   "interpreter": {
    "hash": "318f2c383d48220c821fefd227250c35bb828f95042f5889a5ad1704b1baf79c"
   }
  }
 },
 "nbformat": 4,
 "nbformat_minor": 5
}
