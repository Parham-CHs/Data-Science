{
 "cells": [
  {
   "attachments": {},
   "cell_type": "markdown",
   "id": "d501bfad",
   "metadata": {},
   "source": [
    "## Introduction to Data Science Assignment 3\n",
    "__Parham Javan 810800008<br>__\n",
    "__Yaser Azad 810800003__"
   ]
  },
  {
   "cell_type": "markdown",
   "id": "35e2a63653254a50",
   "metadata": {
    "collapsed": false
   },
   "source": [
    "## Install & Import Libraries"
   ]
  },
  {
   "cell_type": "code",
   "execution_count": 31,
   "id": "f027d544812c325c",
   "metadata": {
    "ExecuteTime": {
     "end_time": "2024-04-17T19:00:44.261800200Z",
     "start_time": "2024-04-17T19:00:44.248515500Z"
    },
    "collapsed": false
   },
   "outputs": [],
   "source": [
    "import importlib.util\n",
    "\n",
    "# Check if PySpark is installed\n",
    "if importlib.util.find_spec(\"pyspark\") is None:\n",
    "    # Install PySpark\n",
    "    !pip install pyspark\n",
    "\n",
    "from pyspark.sql import SparkSession\n",
    "from pyspark.sql.functions import year, month\n",
    "from pyspark.sql.functions import mean, stddev\n",
    "from pyspark.sql.functions import to_date\n",
    "from pyspark.sql.functions import min, max, median, avg, format_number\n",
    "from pyspark.sql.functions import col, when\n",
    "from pyspark.sql.functions import split, explode\n"
   ]
  },
  {
   "cell_type": "markdown",
   "id": "5de21c3f07dc6f2c",
   "metadata": {
    "collapsed": false
   },
   "source": [
    "For better visualization of dataframes in jupyter notebooks, since they are rendered to html"
   ]
  },
  {
   "cell_type": "code",
   "execution_count": 32,
   "id": "initial_id",
   "metadata": {
    "ExecuteTime": {
     "end_time": "2024-04-17T19:00:44.285311600Z",
     "start_time": "2024-04-17T19:00:44.259166300Z"
    },
    "collapsed": true
   },
   "outputs": [
    {
     "data": {
      "text/html": [
       "<style>pre { white-space: pre !important; }</style>"
      ],
      "text/plain": [
       "<IPython.core.display.HTML object>"
      ]
     },
     "metadata": {},
     "output_type": "display_data"
    }
   ],
   "source": [
    "from IPython.display import display, HTML\n",
    "display(HTML('<style>pre { white-space: pre !important; }</style>'))\n"
   ]
  },
  {
   "cell_type": "markdown",
   "id": "ba7820e00437472e",
   "metadata": {
    "collapsed": false
   },
   "source": [
    "## Main Task"
   ]
  },
  {
   "attachments": {},
   "cell_type": "markdown",
   "id": "f18bf245",
   "metadata": {},
   "source": [
    "---\n",
    "<br>\n",
    "Step 1: Check the Schema"
   ]
  },
  {
   "cell_type": "code",
   "execution_count": 33,
   "id": "b34d9294",
   "metadata": {},
   "outputs": [
    {
     "name": "stdout",
     "output_type": "stream",
     "text": [
      "root\n",
      " |-- id: string (nullable = true)\n",
      " |-- name: string (nullable = true)\n",
      " |-- album: string (nullable = true)\n",
      " |-- album_id: string (nullable = true)\n",
      " |-- artists: string (nullable = true)\n",
      " |-- artist_ids: string (nullable = true)\n",
      " |-- track_number: long (nullable = true)\n",
      " |-- disc_number: long (nullable = true)\n",
      " |-- explicit: boolean (nullable = true)\n",
      " |-- danceability: double (nullable = true)\n",
      " |-- energy: double (nullable = true)\n",
      " |-- key: long (nullable = true)\n",
      " |-- loudness: double (nullable = true)\n",
      " |-- mode: long (nullable = true)\n",
      " |-- speechiness: double (nullable = true)\n",
      " |-- acousticness: double (nullable = true)\n",
      " |-- instrumentalness: double (nullable = true)\n",
      " |-- liveness: double (nullable = true)\n",
      " |-- valence: double (nullable = true)\n",
      " |-- tempo: double (nullable = true)\n",
      " |-- duration_ms: long (nullable = true)\n",
      " |-- time_signature: double (nullable = true)\n",
      " |-- year: long (nullable = true)\n",
      " |-- release_date: string (nullable = true)\n",
      "\n"
     ]
    }
   ],
   "source": [
    "# Create a SparkSession\n",
    "spark = SparkSession.builder \\\n",
    "    .appName(\"Spotify Analysis\") \\\n",
    "    .getOrCreate()\n",
    "\n",
    "# Read the parquet file into a DataFrame\n",
    "df = spark.read.parquet(\"spotify.parquet\")\n",
    "\n",
    "# Print the schema\n",
    "df.printSchema()"
   ]
  },
  {
   "attachments": {},
   "cell_type": "markdown",
   "id": "8b056ec9",
   "metadata": {},
   "source": [
    "---\n",
    "<br>\n",
    "Step 2: Preprocess Columns"
   ]
  },
  {
   "cell_type": "code",
   "execution_count": 34,
   "id": "7b3a15ee",
   "metadata": {},
   "outputs": [
    {
     "name": "stdout",
     "output_type": "stream",
     "text": [
      "Data type of column 'release_date': DateType()\n"
     ]
    }
   ],
   "source": [
    "# Convert 'release_date' to date type\n",
    "df = df.withColumn('release_date', to_date(df['release_date']))\n",
    "column_data_type = df.schema['release_date'].dataType\n",
    "print(\"Data type of column '{}': {}\".format('release_date', column_data_type))"
   ]
  },
  {
   "attachments": {},
   "cell_type": "markdown",
   "id": "c63a966e",
   "metadata": {},
   "source": [
    "---\n",
    "<br>\n",
    "Step 3: Aggregation, Filtering, and Transformation"
   ]
  },
  {
   "attachments": {},
   "cell_type": "markdown",
   "id": "8d04f7ec",
   "metadata": {},
   "source": [
    "Aggregation"
   ]
  },
  {
   "cell_type": "code",
   "execution_count": 35,
   "id": "60f5a23a",
   "metadata": {},
   "outputs": [
    {
     "name": "stdout",
     "output_type": "stream",
     "text": [
      "\n",
      "Average Characteristics of Songs Per Year:\n",
      "+----+----------------+----------------+-------------------+----------------+----------+----------+-------------+----------+---------------+\n",
      "|year|min_danceability|max_danceability|median_danceability|avg_danceability|min_energy|max_energy|median_energy|avg_energy|avg_duration_ms|\n",
      "+----+----------------+----------------+-------------------+----------------+----------+----------+-------------+----------+---------------+\n",
      "|1950|          0.0650|          0.7820|             0.3540|          0.3613|    0.0015|    0.9620|       0.1640|    0.2412|   228,289.9317|\n",
      "|1936|          0.3440|          0.8340|             0.6580|          0.6403|    0.0463|    0.7390|       0.2120|    0.2470|   164,607.3012|\n",
      "|1951|          0.1350|          0.8260|             0.5230|          0.5097|    0.0108|    0.8630|       0.2940|    0.3305|   193,564.6571|\n",
      "|1958|          0.0000|          0.8960|             0.4300|          0.4269|    0.0020|    0.9810|       0.3020|    0.3362|   207,774.4397|\n",
      "|   0|          0.6570|          0.9570|             0.7605|          0.7655|    0.1040|    0.7200|       0.5475|    0.5016|   167,336.4000|\n",
      "|1983|          0.0000|          0.9870|             0.5440|          0.5261|    0.0017|    0.9980|       0.6180|    0.5687|   247,331.9686|\n",
      "|1972|          0.0000|          0.9210|             0.4790|          0.4711|    0.0006|    0.9880|       0.4315|    0.4414|   263,922.1146|\n",
      "|2007|          0.0000|          0.9940|             0.4990|          0.4932|    0.0000|    1.0000|       0.5210|    0.5120|   247,879.9769|\n",
      "|1979|          0.0574|          0.9560|             0.5290|          0.5134|    0.0016|    0.9970|       0.5215|    0.5052|   253,367.2550|\n",
      "|1988|          0.0000|          0.9450|             0.4300|          0.4408|    0.0000|    1.0000|       0.3450|    0.4131|   262,583.3386|\n",
      "|2014|          0.0000|          0.9860|             0.4970|          0.4865|    0.0000|    1.0000|       0.5590|    0.5357|   259,282.5934|\n",
      "|1986|          0.0000|          0.9620|             0.4850|          0.4772|    0.0001|    0.9990|       0.5020|    0.4950|   259,622.7110|\n",
      "|1908|          0.4320|          0.7550|             0.6280|          0.6041|    0.0712|    0.8100|       0.4920|    0.4737|   226,203.4737|\n",
      "|1949|          0.1120|          0.8890|             0.3570|          0.4038|    0.0137|    0.7930|       0.2510|    0.2653|   186,792.3793|\n",
      "|1969|          0.0000|          0.8990|             0.4630|          0.4574|    0.0010|    0.9970|       0.4310|    0.4321|   230,629.1010|\n",
      "|1930|          0.1590|          0.8230|             0.5940|          0.5812|    0.1160|    0.7790|       0.3630|    0.3505|   209,904.8305|\n",
      "|1967|          0.0000|          0.8490|             0.4840|          0.4703|    0.0026|    0.9500|       0.3895|    0.3957|   220,114.6943|\n",
      "|1964|          0.0000|          0.8000|             0.3960|          0.3953|    0.0032|    0.9950|       0.2680|    0.3150|   258,597.4102|\n",
      "|1956|          0.0000|          0.8900|             0.4740|          0.4564|    0.0058|    0.9950|       0.2995|    0.3496|   239,359.3209|\n",
      "|1937|          0.4900|          0.8230|             0.6680|          0.6566|    0.0643|    0.6050|       0.3135|    0.3107|   159,192.7000|\n",
      "+----+----------------+----------------+-------------------+----------------+----------+----------+-------------+----------+---------------+\n",
      "only showing top 20 rows\n",
      "\n"
     ]
    }
   ],
   "source": [
    "# Aggregate statistics for danceability and energy features by year\n",
    "aggregate_statistics = df.groupBy('year').agg(\n",
    "    format_number(min('danceability'), 4).alias('min_danceability'),\n",
    "    format_number(max('danceability'), 4).alias('max_danceability'),\n",
    "    format_number(median('danceability'), 4).alias('median_danceability'),\n",
    "    format_number(avg('danceability'), 4).alias('avg_danceability'),\n",
    "    format_number(min('energy'), 4).alias('min_energy'),\n",
    "    format_number(max('energy'), 4).alias('max_energy'),\n",
    "    format_number(median('energy'), 4).alias('median_energy'),\n",
    "    format_number(avg('energy'), 4).alias('avg_energy'),\n",
    "    format_number(avg('duration_ms'), 4).alias('avg_duration_ms')\n",
    ")\n",
    "print(\"\\nAverage Characteristics of Songs Per Year:\")\n",
    "aggregate_statistics.show()"
   ]
  },
  {
   "attachments": {},
   "cell_type": "markdown",
   "id": "65b9c5fc",
   "metadata": {},
   "source": [
    "---\n",
    "Filtering"
   ]
  },
  {
   "cell_type": "code",
   "execution_count": 36,
   "id": "c866357a",
   "metadata": {},
   "outputs": [
    {
     "name": "stdout",
     "output_type": "stream",
     "text": [
      "\n",
      "dataset excluding explicit songs:\n",
      "+--------------------+--------------------+--------------------+-----------+------------+\n",
      "|                name|               album|             artists|duration_ms|release_date|\n",
      "+--------------------+--------------------+--------------------+-----------+------------+\n",
      "|             Testify|The Battle Of Los...|['Rage Against Th...|     210133|  1999-11-02|\n",
      "|    Calm Like a Bomb|The Battle Of Los...|['Rage Against Th...|     298893|  1999-11-02|\n",
      "|Sleep Now In the ...|The Battle Of Los...|['Rage Against Th...|     205600|  1999-11-02|\n",
      "|Born of a Broken Man|The Battle Of Los...|['Rage Against Th...|     280960|  1999-11-02|\n",
      "|      Born As Ghosts|The Battle Of Los...|['Rage Against Th...|     202040|  1999-11-02|\n",
      "|               Maria|The Battle Of Los...|['Rage Against Th...|     228093|  1999-11-02|\n",
      "|Voice of the Voic...|The Battle Of Los...|['Rage Against Th...|     151573|  1999-11-02|\n",
      "|New Millennium Homes|The Battle Of Los...|['Rage Against Th...|     224933|  1999-11-02|\n",
      "| War Within a Breath|The Battle Of Los...|['Rage Against Th...|     216427|  1999-11-02|\n",
      "|  Settle for Nothing|Rage Against The ...|['Rage Against Th...|     287333|  1992-11-03|\n",
      "|             Wake Up|Rage Against The ...|['Rage Against Th...|     364133|  1992-11-03|\n",
      "|    Fistful of Steel|Rage Against The ...|['Rage Against Th...|     331107|  1992-11-03|\n",
      "|             Freedom|Rage Against The ...|['Rage Against Th...|     366267|  1992-11-03|\n",
      "|    Man on a Mission|      Do It for Love|['Daryl Hall & Jo...|     224307|  2018-04-10|\n",
      "|      Do It for Love|      Do It for Love|['Daryl Hall & Jo...|     238000|  2018-04-10|\n",
      "|  Someday We'll Know|      Do It for Love|['Daryl Hall & Jo...|     268013|  2018-04-10|\n",
      "|     Forever for You|      Do It for Love|['Daryl Hall & Jo...|     277813|  2018-04-10|\n",
      "|    Life's Too Short|      Do It for Love|['Daryl Hall & Jo...|     209960|  2018-04-10|\n",
      "|         Getaway Car|      Do It for Love|['Daryl Hall & Jo...|     229253|  2018-04-10|\n",
      "|       Make You Stay|      Do It for Love|['Daryl Hall & Jo...|     221174|  2018-04-10|\n",
      "+--------------------+--------------------+--------------------+-----------+------------+\n",
      "only showing top 20 rows\n",
      "\n"
     ]
    }
   ],
   "source": [
    "# Filter the dataset to exclude the songs with explicit content\n",
    "non_explicit_songs = df.select('name', 'album', 'artists', 'duration_ms', 'release_date').filter(df['explicit'] == False)\n",
    "print(\"\\ndataset excluding explicit songs:\")\n",
    "non_explicit_songs.show()"
   ]
  },
  {
   "attachments": {},
   "cell_type": "markdown",
   "id": "681f6d64",
   "metadata": {},
   "source": [
    "---\n",
    "Transformation"
   ]
  },
  {
   "cell_type": "code",
   "execution_count": 37,
   "id": "2d101483",
   "metadata": {},
   "outputs": [
    {
     "name": "stdout",
     "output_type": "stream",
     "text": [
      "+--------------------+--------------------+--------------------+-----------+------------+-------------------+\n",
      "|                name|               album|             artists|duration_ms|release_date|song_length_minutes|\n",
      "+--------------------+--------------------+--------------------+-----------+------------+-------------------+\n",
      "|             Testify|The Battle Of Los...|['Rage Against Th...|     210133|  1999-11-02|             3.5022|\n",
      "|     Guerrilla Radio|The Battle Of Los...|['Rage Against Th...|     206200|  1999-11-02|             3.4367|\n",
      "|    Calm Like a Bomb|The Battle Of Los...|['Rage Against Th...|     298893|  1999-11-02|             4.9816|\n",
      "|           Mic Check|The Battle Of Los...|['Rage Against Th...|     213640|  1999-11-02|             3.5607|\n",
      "|Sleep Now In the ...|The Battle Of Los...|['Rage Against Th...|     205600|  1999-11-02|             3.4267|\n",
      "|Born of a Broken Man|The Battle Of Los...|['Rage Against Th...|     280960|  1999-11-02|             4.6827|\n",
      "|      Born As Ghosts|The Battle Of Los...|['Rage Against Th...|     202040|  1999-11-02|             3.3673|\n",
      "|               Maria|The Battle Of Los...|['Rage Against Th...|     228093|  1999-11-02|             3.8016|\n",
      "|Voice of the Voic...|The Battle Of Los...|['Rage Against Th...|     151573|  1999-11-02|             2.5262|\n",
      "|New Millennium Homes|The Battle Of Los...|['Rage Against Th...|     224933|  1999-11-02|             3.7489|\n",
      "|   Ashes In the Fall|The Battle Of Los...|['Rage Against Th...|     277267|  1999-11-02|             4.6211|\n",
      "| War Within a Breath|The Battle Of Los...|['Rage Against Th...|     216427|  1999-11-02|             3.6071|\n",
      "|           Bombtrack|Rage Against The ...|['Rage Against Th...|     243760|  1992-11-03|             4.0627|\n",
      "| Killing In the Name|Rage Against The ...|['Rage Against Th...|     313667|  1992-11-03|             5.2278|\n",
      "| Take the Power Back|Rage Against The ...|['Rage Against Th...|     335840|  1992-11-03|             5.5973|\n",
      "|  Settle for Nothing|Rage Against The ...|['Rage Against Th...|     287333|  1992-11-03|             4.7889|\n",
      "|  Bullet In the Head|Rage Against The ...|['Rage Against Th...|     307067|  1992-11-03|             5.1178|\n",
      "|     Know Your Enemy|Rage Against The ...|['Rage Against Th...|     294693|  1992-11-03|             4.9116|\n",
      "|             Wake Up|Rage Against The ...|['Rage Against Th...|     364133|  1992-11-03|             6.0689|\n",
      "|    Fistful of Steel|Rage Against The ...|['Rage Against Th...|     331107|  1992-11-03|             5.5184|\n",
      "+--------------------+--------------------+--------------------+-----------+------------+-------------------+\n",
      "only showing top 20 rows\n",
      "\n"
     ]
    }
   ],
   "source": [
    "# Convert duration from milliseconds to minutes\n",
    "df_added = df.select('name', 'album', 'artists', 'duration_ms', 'release_date').withColumn('song_length_minutes', format_number(col('duration_ms') / 60000, 4))\n",
    "df_added.show()"
   ]
  },
  {
   "attachments": {},
   "cell_type": "markdown",
   "id": "7264c2ce",
   "metadata": {},
   "source": [
    "---\n",
    "Transformation"
   ]
  },
  {
   "cell_type": "code",
   "execution_count": 39,
   "id": "0fae0ee9",
   "metadata": {},
   "outputs": [
    {
     "name": "stdout",
     "output_type": "stream",
     "text": [
      "\n",
      "dataset with added 'song_length_minutes' and 'long_song' columns:\n",
      "+--------------------+--------------------+--------------------+-----------+------------+-------------------+---------+\n",
      "|                name|               album|             artists|duration_ms|release_date|song_length_minutes|long_song|\n",
      "+--------------------+--------------------+--------------------+-----------+------------+-------------------+---------+\n",
      "|             Testify|The Battle Of Los...|['Rage Against Th...|     210133|  1999-11-02|             3.5022|        0|\n",
      "|     Guerrilla Radio|The Battle Of Los...|['Rage Against Th...|     206200|  1999-11-02|             3.4367|        0|\n",
      "|    Calm Like a Bomb|The Battle Of Los...|['Rage Against Th...|     298893|  1999-11-02|             4.9816|        0|\n",
      "|           Mic Check|The Battle Of Los...|['Rage Against Th...|     213640|  1999-11-02|             3.5607|        0|\n",
      "|Sleep Now In the ...|The Battle Of Los...|['Rage Against Th...|     205600|  1999-11-02|             3.4267|        0|\n",
      "|Born of a Broken Man|The Battle Of Los...|['Rage Against Th...|     280960|  1999-11-02|             4.6827|        0|\n",
      "|      Born As Ghosts|The Battle Of Los...|['Rage Against Th...|     202040|  1999-11-02|             3.3673|        0|\n",
      "|               Maria|The Battle Of Los...|['Rage Against Th...|     228093|  1999-11-02|             3.8016|        0|\n",
      "|Voice of the Voic...|The Battle Of Los...|['Rage Against Th...|     151573|  1999-11-02|             2.5262|        0|\n",
      "|New Millennium Homes|The Battle Of Los...|['Rage Against Th...|     224933|  1999-11-02|             3.7489|        0|\n",
      "|   Ashes In the Fall|The Battle Of Los...|['Rage Against Th...|     277267|  1999-11-02|             4.6211|        0|\n",
      "| War Within a Breath|The Battle Of Los...|['Rage Against Th...|     216427|  1999-11-02|             3.6071|        0|\n",
      "|           Bombtrack|Rage Against The ...|['Rage Against Th...|     243760|  1992-11-03|             4.0627|        0|\n",
      "| Killing In the Name|Rage Against The ...|['Rage Against Th...|     313667|  1992-11-03|             5.2278|        0|\n",
      "| Take the Power Back|Rage Against The ...|['Rage Against Th...|     335840|  1992-11-03|             5.5973|        0|\n",
      "|  Settle for Nothing|Rage Against The ...|['Rage Against Th...|     287333|  1992-11-03|             4.7889|        0|\n",
      "|  Bullet In the Head|Rage Against The ...|['Rage Against Th...|     307067|  1992-11-03|             5.1178|        0|\n",
      "|     Know Your Enemy|Rage Against The ...|['Rage Against Th...|     294693|  1992-11-03|             4.9116|        0|\n",
      "|             Wake Up|Rage Against The ...|['Rage Against Th...|     364133|  1992-11-03|             6.0689|        0|\n",
      "|    Fistful of Steel|Rage Against The ...|['Rage Against Th...|     331107|  1992-11-03|             5.5184|        0|\n",
      "+--------------------+--------------------+--------------------+-----------+------------+-------------------+---------+\n",
      "only showing top 20 rows\n",
      "\n",
      "Number of long songs: 7992\n",
      "Total number of songs: 1204025\n",
      "Percetage of long song: 0.6637735927410144 %\n"
     ]
    }
   ],
   "source": [
    "# Create a new binary feature 'long_song' indicating whether the song duration is above a certain threshold (e.g., 15 minutes).\n",
    "threshold = 15 * 60 * 1000  # 5 minutes in milliseconds\n",
    "df_added = df_added.withColumn('long_song', when(df['duration_ms'] > threshold, 1).otherwise(0))\n",
    "\n",
    "print(\"\\ndataset with added \\'song_length_minutes\\' and \\'long_song\\' columns:\")\n",
    "df_added.show()\n",
    "\n",
    "# Count the number of long songs in the DataFrame\n",
    "count_long_songs = df_added.filter(df_added['long_song'] == 1).count()\n",
    "print(\"Number of long songs:\", count_long_songs)\n",
    "\n",
    "# Count the total number of songs in the DataFrame\n",
    "total_songs_count = df_added.count()\n",
    "print(\"Total number of songs:\", total_songs_count)\n",
    "\n",
    "print(\"Percetage of long song:\", (count_long_songs/total_songs_count)*100 , \"%\")"
   ]
  },
  {
   "attachments": {},
   "cell_type": "markdown",
   "id": "67401dac",
   "metadata": {},
   "source": [
    "---\n",
    "<br>\n",
    "Step 4: Dealing with Array Columns"
   ]
  },
  {
   "cell_type": "code",
   "execution_count": 40,
   "id": "2a62a909",
   "metadata": {},
   "outputs": [
    {
     "name": "stdout",
     "output_type": "stream",
     "text": [
      "\n",
      "Exploded DataFrame with Each Artist in a Separate Row:\n",
      "+--------------------+--------------------+--------------------+-----------+------------+\n",
      "|                name|               album|              artist|duration_ms|release_date|\n",
      "+--------------------+--------------------+--------------------+-----------+------------+\n",
      "|             Testify|The Battle Of Los...|['Rage Against Th...|     210133|  1999-11-02|\n",
      "|     Guerrilla Radio|The Battle Of Los...|['Rage Against Th...|     206200|  1999-11-02|\n",
      "|    Calm Like a Bomb|The Battle Of Los...|['Rage Against Th...|     298893|  1999-11-02|\n",
      "|           Mic Check|The Battle Of Los...|['Rage Against Th...|     213640|  1999-11-02|\n",
      "|Sleep Now In the ...|The Battle Of Los...|['Rage Against Th...|     205600|  1999-11-02|\n",
      "|Born of a Broken Man|The Battle Of Los...|['Rage Against Th...|     280960|  1999-11-02|\n",
      "|      Born As Ghosts|The Battle Of Los...|['Rage Against Th...|     202040|  1999-11-02|\n",
      "|               Maria|The Battle Of Los...|['Rage Against Th...|     228093|  1999-11-02|\n",
      "|Voice of the Voic...|The Battle Of Los...|['Rage Against Th...|     151573|  1999-11-02|\n",
      "|New Millennium Homes|The Battle Of Los...|['Rage Against Th...|     224933|  1999-11-02|\n",
      "|   Ashes In the Fall|The Battle Of Los...|['Rage Against Th...|     277267|  1999-11-02|\n",
      "| War Within a Breath|The Battle Of Los...|['Rage Against Th...|     216427|  1999-11-02|\n",
      "|           Bombtrack|Rage Against The ...|['Rage Against Th...|     243760|  1992-11-03|\n",
      "| Killing In the Name|Rage Against The ...|['Rage Against Th...|     313667|  1992-11-03|\n",
      "| Take the Power Back|Rage Against The ...|['Rage Against Th...|     335840|  1992-11-03|\n",
      "|  Settle for Nothing|Rage Against The ...|['Rage Against Th...|     287333|  1992-11-03|\n",
      "|  Bullet In the Head|Rage Against The ...|['Rage Against Th...|     307067|  1992-11-03|\n",
      "|     Know Your Enemy|Rage Against The ...|['Rage Against Th...|     294693|  1992-11-03|\n",
      "|             Wake Up|Rage Against The ...|['Rage Against Th...|     364133|  1992-11-03|\n",
      "|    Fistful of Steel|Rage Against The ...|['Rage Against Th...|     331107|  1992-11-03|\n",
      "+--------------------+--------------------+--------------------+-----------+------------+\n",
      "only showing top 20 rows\n",
      "\n"
     ]
    }
   ],
   "source": [
    "# For example, if we want to explode the 'artists' array to get each artist in a separate row\n",
    "# Split the 'artists' string by comma and create an array\n",
    "df_with_array = df.withColumn('artists_array', split(df['artists'], ', '))\n",
    "\n",
    "# Explode the array to get each artist in a separate row\n",
    "df_exploded = df_with_array.withColumn('artist', explode(df_with_array['artists_array']))\n",
    "\n",
    "# Drop the intermediate 'artists_array' column\n",
    "df_exploded = df_exploded.drop('artists_array')\n",
    "\n",
    "# Show the resulting DataFrame\n",
    "print(\"\\nExploded DataFrame with Each Artist in a Separate Row:\")\n",
    "df_exploded = df_exploded.select('name', 'album', 'artist', 'duration_ms', 'release_date')\n",
    "df_exploded.show()"
   ]
  },
  {
   "attachments": {},
   "cell_type": "markdown",
   "id": "7c42f724",
   "metadata": {},
   "source": [
    "---\n",
    "<br>\n",
    "Step 5: Top-K Records"
   ]
  },
  {
   "cell_type": "code",
   "execution_count": 41,
   "id": "7e14a3d0ad1a0faf",
   "metadata": {
    "ExecuteTime": {
     "end_time": "2024-04-17T19:02:05.657178500Z",
     "start_time": "2024-04-17T19:02:02.544502Z"
    },
    "collapsed": false
   },
   "outputs": [
    {
     "name": "stdout",
     "output_type": "stream",
     "text": [
      "\n",
      "Top 20 Songs based on Valence:\n",
      "+--------------------+--------------------+--------------------+-----------+------------+\n",
      "|                name|               album|             artists|duration_ms|release_date|\n",
      "+--------------------+--------------------+--------------------+-----------+------------+\n",
      "|         Breakbeat 4|Best Of Neverendi...|        ['Dj Swamp']|      32000|  2005-08-18|\n",
      "|           Crag Lake|          Buck Fever|   ['Estradasphere']|      48147|  2001-01-01|\n",
      "|The Drunken Landlady|    The Family Album|   ['The McCarthys']|      79960|  2010-05-08|\n",
      "|  The Whistling Song|        Wild Animals|['The Pinker Tones']|     232507|  2008-06-03|\n",
      "|Let It Snoki Doki...|         8-Bit Jesus|  ['Doctor Octoroc']|      66960|  2008-12-20|\n",
      "|               Genie|History: Mission ...|  ['The Gravel Pit']|      25867|  1997-01-01|\n",
      "|       In This World|            Shine On|             ['Lea']|     379173|  2005-08-11|\n",
      "|         La Petacona|Country a la Mexi...|['Cuhamileros de ...|     113853|  2000-08-12|\n",
      "|Give Thanks in Al...|Sing the Word Fro...|['The Harrow Fami...|      61373|  2001-12-04|\n",
      "|   Itsy Bitsy Spider|Rhymin' to the Be...|   ['Jack Hartmann']|     100000|  1996-01-01|\n",
      "|         Dain's Mill|The Dark Peak and...|     ['Bella Hardy']|      69773|  2012-05-06|\n",
      "| Clean Shirt Reprise|      The Third Rail|   ['Railroad Jerk']|      33733|  1996-10-08|\n",
      "|Colonel Roger's F...|As I Carelessly D...|   ['Harry Bradley']|     183928|  2002-01-01|\n",
      "|Jim Coleman's / S...|As I Carelessly D...|   ['Harry Bradley']|     199811|  2002-01-01|\n",
      "|The Shaskeen / Bo...|As I Carelessly D...|   ['Harry Bradley']|     171598|  2002-01-01|\n",
      "|         El Aguacero|Country a la Mexi...|['Cuhamileros de ...|     130427|  2000-08-12|\n",
      "|Old Joe / The Boa...|Voice of the Peop...|     ['Percy Brown']|     160173|  1997-01-01|\n",
      "|             Chatter|The Music Of Raym...|   ['Raymond Scott']|      18855|  1937-01-01|\n",
      "|    Paddy O'Rafferty|   Spirit Of America|['United States O...|      47733|  2000-01-01|\n",
      "|Hornpipe: The Hig...|The Merry Love to...|['Peter Horan', '...|     128160|  2016-06-28|\n",
      "+--------------------+--------------------+--------------------+-----------+------------+\n",
      "\n"
     ]
    }
   ],
   "source": [
    "# Step 5: Top-K Records\n",
    "\n",
    "# For example, let's find the top 20 songs based on valence\n",
    "top_songs = df.select('name', 'album', 'artists', 'duration_ms', 'release_date').orderBy(df['valence'].desc()).limit(20)\n",
    "print(\"\\nTop 20 Songs based on Valence:\")\n",
    "top_songs.show()\n",
    "\n",
    "# Stop the SparkSession\n",
    "spark.stop()\n"
   ]
  }
 ],
 "metadata": {
  "kernelspec": {
   "display_name": "Python 3",
   "language": "python",
   "name": "python3"
  },
  "language_info": {
   "codemirror_mode": {
    "name": "ipython",
    "version": 3
   },
   "file_extension": ".py",
   "mimetype": "text/x-python",
   "name": "python",
   "nbconvert_exporter": "python",
   "pygments_lexer": "ipython3",
   "version": "3.11.4"
  },
  "vscode": {
   "interpreter": {
    "hash": "318f2c383d48220c821fefd227250c35bb828f95042f5889a5ad1704b1baf79c"
   }
  }
 },
 "nbformat": 4,
 "nbformat_minor": 5
}
